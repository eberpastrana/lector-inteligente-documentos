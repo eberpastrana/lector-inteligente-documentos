{
  "metadata": {
    "kernelspec": {
      "name": "python",
      "display_name": "Python (Pyodide)",
      "language": "python"
    },
    "language_info": {
      "codemirror_mode": {
        "name": "python",
        "version": 3
      },
      "file_extension": ".py",
      "mimetype": "text/x-python",
      "name": "python",
      "nbconvert_exporter": "python",
      "pygments_lexer": "ipython3",
      "version": "3.8"
    }
  },
  "nbformat_minor": 5,
  "nbformat": 4,
  "cells": [
    {
      "id": "bb1ca133-67a3-4bdc-abc7-246c070bcdb7",
      "cell_type": "code",
      "source": "# !pip install PyMuPDF openai\nimport fitz  # PyMuPDF\nimport openai\n# Reemplazá con tu propia API key de OpenAI\nopenai.api_key = \"TU_API_KEY_AQUI\"\ndef extract_text_from_pdf(pdf_path):\n    doc = fitz.open(pdf_path)\n    text = \"\"\n    for page in doc:\n        text += page.get_text()\n    return text\n# Reemplazá con tu archivo real\nruta_pdf = \"docs/documento_funcional_ejemplo.pdf\"\ntexto_documento = extract_text_from_pdf(ruta_pdf)\n\n# Mostrar primeras líneas\nprint(texto_documento[:1000])\ndef generar_resumen(texto):\n    prompt = (\n        \"Lee el siguiente documento y genera un resumen claro en no más de 10 líneas, \"\n        \"enfocándote en los puntos clave y técnicos más importantes.\\n\\n\" + texto[:3000]\n    )\n    response = openai.ChatCompletion.create(\n        model=\"gpt-4\",\n        messages=[{\"role\": \"user\", \"content\": prompt}]\n    )\n    return response['choices'][0]['message']['content']\n\nresumen = generar_resumen(texto_documento)\nprint(\"Resumen del documento:\\n\")\nprint(resumen)\ndef generar_imagen(prompt_imagen):\n    response = openai.Image.create(\n        prompt=prompt_imagen,\n        n=1,\n        size=\"512x512\"\n    )\n    return response['data'][0]['url']\n\nprompt_img = (\n    \"Genera una imagen tipo check-list visual que represente si se cumplen los siguientes requisitos: \"\n    \"Confidencialidad, Plazos, Firmas.\"\n)\n\nimagen_url = generar_imagen(prompt_img)\nprint(\"Imagen generada:\", imagen_url)\nfrom IPython.display import Image, display\n\ndisplay(Image(url=imagen_url))\n",
      "metadata": {
        "trusted": true
      },
      "outputs": [],
      "execution_count": null
    }
  ]
}